{
 "cells": [
  {
   "cell_type": "code",
   "execution_count": 1,
   "metadata": {},
   "outputs": [],
   "source": [
    "import warnings\n",
    "warnings.filterwarnings(\"ignore\")\n",
    "import pandas as pd\n",
    "import time, datetime\n",
    "import numpy as np"
   ]
  },
  {
   "cell_type": "markdown",
   "metadata": {},
   "source": [
    "# Final Project: Motor Vehicle Collisions - Crashes of New York City#\n",
    "## Data Story ##\n",
    "The Motor Vehicle Collisions crash table contains details on the crash event. Each row represents a crash event. The Motor Vehicle Collisions data tables contain information from all police reported motor vehicle collisions in NYC.<a href=\"https://data.cityofnewyork.us/Public-Safety/Motor-Vehicle-Collisions-Crashes/h9gi-nx95\" >[1]</a> We found this data-set a good fit for our final project, because it has some overlapping features with the Police Department Incident Reports data-set we have worked on a lot, so we can apply many methods and techniques we learned in the exercises. By the way, there is also some other interesting features we can explore with our own imaginations.\n",
    "\n",
    "The motor vehicle collisions were recorded from 2012 to 2021 as we downloaded the latest version. Cases recorded distribute in 5 boroughs in NYC and they are Bronx, Brooklyn, Manhattan, Queens and Staten Island. "
   ]
  },
  {
   "cell_type": "code",
   "execution_count": 2,
   "metadata": {},
   "outputs": [],
   "source": [
    "#import csv file of the target data-set\n",
    "df = pd.read_csv(\"Motor_Vehicle_Collisions_-_Crashes.csv\")\n",
    "\n",
    "#we want to have access to dataframe.dt.year/month/day/hour/minute\n",
    "#change crash date format into the date format of standard dataframe\n",
    "df['CRASH DATE'] = pd.to_datetime(df['CRASH DATE'].astype(str), format='%m/%d/%Y', errors='coerce')\n",
    "#change crash time format into the time format of standard dataframe\n",
    "df['CRASH TIME'] = pd.to_datetime(df['CRASH TIME'].astype(str), format='%H:%M')"
   ]
  },
  {
   "cell_type": "code",
   "execution_count": 13,
   "metadata": {},
   "outputs": [
    {
     "name": "stdout",
     "output_type": "stream",
     "text": [
      "Years involved in the motor vehicle collisions are: [2012 2013 2014 2015 2016 2017 2018 2019 2020 2021]\n",
      "Boroughs involved in the motor vehicle collisions are: ['BRONX' 'BROOKLYN' 'MANHATTAN' 'QUEENS' 'STATEN ISLAND']\n"
     ]
    }
   ],
   "source": [
    "#access all years included in the data-set and sort them by numbers\n",
    "years = np.array(df['CRASH DATE'].dt.year.drop_duplicates().dropna().sort_values()).astype(int)\n",
    "print(\"Years involved in the motor vehicle collisions are: {}\".format(years))\n",
    "#access all boroughs included in the data-set and sort them by alphabets\n",
    "boroughs = np.array(df['BOROUGH'].drop_duplicates().dropna().sort_values())\n",
    "print(\"Boroughs involved in the motor vehicle collisions are: {}\".format(boroughs))"
   ]
  },
  {
   "cell_type": "markdown",
   "metadata": {},
   "source": [
    "## References ##\n",
    "[1]\n",
    "Data on Motor Vehicle Collisions - Crashes. <a href=\"https://data.cityofnewyork.us/Public-Safety/Motor-Vehicle-Collisions-Crashes/h9gi-nx95\" >https://data.cityofnewyork.us/Public-Safety/Motor-Vehicle-Collisions-Crashes/h9gi-nx95</a>"
   ]
  },
  {
   "cell_type": "code",
   "execution_count": null,
   "metadata": {},
   "outputs": [],
   "source": []
  }
 ],
 "metadata": {
  "colab": {
   "collapsed_sections": [],
   "name": "Assignment_2_final.ipynb",
   "provenance": []
  },
  "kernelspec": {
   "display_name": "Python 3",
   "language": "python",
   "name": "python3"
  },
  "language_info": {
   "codemirror_mode": {
    "name": "ipython",
    "version": 3
   },
   "file_extension": ".py",
   "mimetype": "text/x-python",
   "name": "python",
   "nbconvert_exporter": "python",
   "pygments_lexer": "ipython3",
   "version": "3.7.7"
  }
 },
 "nbformat": 4,
 "nbformat_minor": 1
}
